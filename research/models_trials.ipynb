{
 "cells": [
  {
   "cell_type": "code",
   "execution_count": 1,
   "metadata": {},
   "outputs": [
    {
     "data": {
      "text/plain": [
       "'c:\\\\Users\\\\riach\\\\Projects\\\\WHO-Life-Expectancy'"
      ]
     },
     "execution_count": 1,
     "metadata": {},
     "output_type": "execute_result"
    }
   ],
   "source": [
    "import os\n",
    "os.chdir(\"../\")\n",
    "%pwd"
   ]
  },
  {
   "cell_type": "code",
   "execution_count": 19,
   "metadata": {},
   "outputs": [],
   "source": [
    "import pandas as pd\n",
    "import numpy as np\n",
    "import matplotlib.pyplot as plt\n",
    "from sklearn.ensemble import RandomForestRegressor\n",
    "from sklearn.linear_model import LinearRegression\n",
    "from sklearn.metrics import mean_absolute_error,r2_score\n",
    "from sklearn.ensemble import GradientBoostingRegressor\n",
    "from sklearn.svm import SVR"
   ]
  },
  {
   "cell_type": "code",
   "execution_count": 11,
   "metadata": {},
   "outputs": [],
   "source": [
    "\n",
    "train_data = pd.read_csv('artifacts/data_transformation/train.csv')\n",
    "test_data = pd.read_csv('artifacts/data_transformation/test.csv')\n",
    "\n",
    "Train = train_data.drop('Life expectancy ',axis=1)\n",
    "Target = train_data['Life expectancy ']\n",
    "x_test = test_data.drop('Life expectancy ',axis=1)\n",
    "y_test = test_data['Life expectancy ']"
   ]
  },
  {
   "cell_type": "code",
   "execution_count": 13,
   "metadata": {},
   "outputs": [],
   "source": [
    "# Create an empty DataFrame for modeling\n",
    "Modeling = pd.DataFrame(columns=['Model', 'Training Score', 'Test R2 Score'])\n",
    "\n",
    "# Define the model selection function\n",
    "def select_model(model_name):\n",
    "    global Modeling  # Access the global DataFrame\n",
    "    \n",
    "    # initialize your model object \n",
    "    model = model_name\n",
    "    \n",
    "    # Fit the model on the training data\n",
    "    model.fit(Train, Target)\n",
    "    \n",
    "    # Calculate the score of the model on the training data\n",
    "    train_score = model.score(Train, Target)\n",
    "    print(f\"Score of the {model_name} model on the training data is: {train_score}\")\n",
    "    \n",
    "    # Make predictions on the test data\n",
    "    predictions = np.round(model.predict(x_test), decimals = 1)\n",
    "    \n",
    "    # See R2 score on the test data\n",
    "    test_r2_score = r2_score(y_test, predictions)\n",
    "    print(f\"R2 score of the {model_name} model on the test data is: {test_r2_score}\")\n",
    "    \n",
    "    # Create a DataFrame for the current model's scores\n",
    "    model_scores = pd.DataFrame({'Model': [model_name], 'Training Score': [train_score], 'Test R2 Score': [test_r2_score]})\n",
    "    \n",
    "    # Concatenate the model_scores DataFrame with the Modeling DataFrame\n",
    "    Modeling = pd.concat([Modeling, model_scores], ignore_index = True)\n"
   ]
  },
  {
   "cell_type": "code",
   "execution_count": 14,
   "metadata": {},
   "outputs": [
    {
     "name": "stdout",
     "output_type": "stream",
     "text": [
      "Score of the LinearRegression() model on the training data is: 0.8384655551585507\n",
      "R2 score of the LinearRegression() model on the test data is: 0.8420072517309976\n"
     ]
    }
   ],
   "source": [
    "select_model(LinearRegression())"
   ]
  },
  {
   "cell_type": "code",
   "execution_count": 15,
   "metadata": {},
   "outputs": [
    {
     "name": "stdout",
     "output_type": "stream",
     "text": [
      "Score of the SVR(C=9.0, epsilon=0.9) model on the training data is: 0.9238979364412254\n",
      "R2 score of the SVR(C=9.0, epsilon=0.9) model on the test data is: 0.9066551203960324\n"
     ]
    }
   ],
   "source": [
    "select_model(SVR(C = 9.0, epsilon = 0.9, kernel = 'rbf'))"
   ]
  },
  {
   "cell_type": "code",
   "execution_count": 16,
   "metadata": {},
   "outputs": [
    {
     "name": "stdout",
     "output_type": "stream",
     "text": [
      "Score of the RandomForestRegressor(max_depth=7, min_samples_split=5) model on the training data is: 0.9640243245298873\n",
      "R2 score of the RandomForestRegressor(max_depth=7, min_samples_split=5) model on the test data is: 0.9427349894414065\n"
     ]
    }
   ],
   "source": [
    "select_model(RandomForestRegressor(n_estimators = 100, max_depth=7, min_samples_split=5))"
   ]
  },
  {
   "cell_type": "code",
   "execution_count": 17,
   "metadata": {},
   "outputs": [
    {
     "name": "stdout",
     "output_type": "stream",
     "text": [
      "Score of the GradientBoostingRegressor(max_depth=6, min_samples_split=5) model on the training data is: 0.9944892125373238\n",
      "R2 score of the GradientBoostingRegressor(max_depth=6, min_samples_split=5) model on the test data is: 0.9619028091300525\n"
     ]
    }
   ],
   "source": [
    "select_model(GradientBoostingRegressor(n_estimators = 100, max_depth = 6, min_samples_split = 5))"
   ]
  },
  {
   "cell_type": "code",
   "execution_count": 18,
   "metadata": {},
   "outputs": [],
   "source": [
    "# rename modle name\n",
    "names = ['LinearRegression', 'SVR', 'RandomForestRegressor', 'GradientBoostingRegressor']\n",
    "\n",
    "# loop over list to rename model\n",
    "for i in range(4):\n",
    "    Modeling.rename(index = {i : names[i]}, inplace = True)\n",
    "    \n",
    "# drop model column\n",
    "Modeling.drop(columns= \"Model\", inplace = True)"
   ]
  },
  {
   "cell_type": "code",
   "execution_count": 20,
   "metadata": {},
   "outputs": [
    {
     "data": {
      "image/png": "[encoded data removed]",
      "text/plain": [
       "<Figure size 1500x600 with 1 Axes>"
      ]
     },
     "metadata": {},
     "output_type": "display_data"
    }
   ],
   "source": [
    "Modeling.plot(kind = \"bar\", figsize = (15,6), width = 0.6)\n",
    "plt.xticks(rotation = 0)\n",
    "plt.show()"
   ]
  },
  {
   "cell_type": "code",
   "execution_count": null,
   "metadata": {},
   "outputs": [],
   "source": []
  }
 ],
 "metadata": {
  "kernelspec": {
   "display_name": "Python 3",
   "language": "python",
   "name": "python3"
  },
  "language_info": {
   "codemirror_mode": {
    "name": "ipython",
    "version": 3
   },
   "file_extension": ".py",
   "mimetype": "text/x-python",
   "name": "python",
   "nbconvert_exporter": "python",
   "pygments_lexer": "ipython3",
   "version": "3.8.18"
  }
 },
 "nbformat": 4,
 "nbformat_minor": 2
}
