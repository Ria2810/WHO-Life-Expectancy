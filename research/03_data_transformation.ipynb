{
 "cells": [
  {
   "cell_type": "code",
   "execution_count": 1,
   "metadata": {},
   "outputs": [
    {
     "data": {
      "text/plain": [
       "'c:\\\\Users\\\\riach\\\\Projects\\\\WHO-Life-Expectancy'"
      ]
     },
     "execution_count": 1,
     "metadata": {},
     "output_type": "execute_result"
    }
   ],
   "source": [
    "import os\n",
    "os.chdir(\"../\")\n",
    "%pwd"
   ]
  },
  {
   "cell_type": "code",
   "execution_count": 2,
   "metadata": {},
   "outputs": [],
   "source": [
    "from dataclasses import dataclass\n",
    "from pathlib import Path\n",
    "\n",
    "\n",
    "@dataclass(frozen=True)\n",
    "class DataTransformationConfig:\n",
    "    root_dir: Path\n",
    "    data_path: Path"
   ]
  },
  {
   "cell_type": "code",
   "execution_count": 3,
   "metadata": {},
   "outputs": [],
   "source": [
    "from LifeExpentancyProject.constants import *\n",
    "from LifeExpentancyProject.utils.common import read_yaml, create_directories"
   ]
  },
  {
   "cell_type": "code",
   "execution_count": 4,
   "metadata": {},
   "outputs": [],
   "source": [
    "class ConfigurationManager:\n",
    "    def __init__(\n",
    "        self,\n",
    "        config_filepath = CONFIG_FILE_PATH,\n",
    "        params_filepath = PARAMS_FILE_PATH,\n",
    "        schema_filepath = SCHEMA_FILE_PATH):\n",
    "\n",
    "        self.config = read_yaml(config_filepath)\n",
    "        self.params = read_yaml(params_filepath)\n",
    "        self.schema = read_yaml(schema_filepath)\n",
    "\n",
    "        create_directories([self.config.artifacts_root])\n",
    "\n",
    "\n",
    "    \n",
    "    def get_data_transformation_config(self) -> DataTransformationConfig:\n",
    "        config = self.config.data_transformation\n",
    "\n",
    "        create_directories([config.root_dir])\n",
    "\n",
    "        data_transformation_config = DataTransformationConfig(\n",
    "            root_dir=config.root_dir,\n",
    "            data_path=config.data_path,\n",
    "        )\n",
    "\n",
    "        return data_transformation_config"
   ]
  },
  {
   "cell_type": "code",
   "execution_count": 5,
   "metadata": {},
   "outputs": [],
   "source": [
    "import os\n",
    "from LifeExpentancyProject import logger\n",
    "import pandas as pd\n",
    "import numpy as np\n",
    "from sklearn.impute import SimpleImputer\n",
    "from sklearn.preprocessing import LabelEncoder\n",
    "from sklearn.preprocessing import MinMaxScaler\n",
    "from sklearn.model_selection import train_test_split"
   ]
  },
  {
   "cell_type": "code",
   "execution_count": 6,
   "metadata": {},
   "outputs": [],
   "source": [
    "class DataTransformation:\n",
    "    def __init__(self, config: DataTransformationConfig):\n",
    "        self.config = config\n",
    "\n",
    "    def train_test_spliting(self):\n",
    "\n",
    "        df = pd.read_csv(self.config.data_path)\n",
    "\n",
    "        # Handling missing values\n",
    "        imputer = SimpleImputer(missing_values=np.nan, strategy='mean', fill_value=None)\n",
    "\n",
    "        df['Life expectancy ']=imputer.fit_transform(df[['Life expectancy ']])\n",
    "        df['Adult Mortality']=imputer.fit_transform(df[['Adult Mortality']])\n",
    "        df['Alcohol']=imputer.fit_transform(df[['Alcohol']])\n",
    "        df['Hepatitis B']=imputer.fit_transform(df[['Hepatitis B']])\n",
    "        df[' BMI ']=imputer.fit_transform(df[[' BMI ']])\n",
    "        df['Polio']=imputer.fit_transform(df[['Polio']])\n",
    "        df['Total expenditure']=imputer.fit_transform(df[['Total expenditure']])\n",
    "        df['Diphtheria ']=imputer.fit_transform(df[['Diphtheria ']])\n",
    "        df['GDP']=imputer.fit_transform(df[['GDP']])\n",
    "        df['Population']=imputer.fit_transform(df[['Population']])\n",
    "        df[' thinness  1-19 years']=imputer.fit_transform(df[[' thinness  1-19 years']])\n",
    "        df[' thinness 5-9 years']=imputer.fit_transform(df[[' thinness 5-9 years']])\n",
    "        df['Income composition of resources']=imputer.fit_transform(df[['Income composition of resources']])\n",
    "        df['Schooling']=imputer.fit_transform(df[['Schooling']])\n",
    "\n",
    "        # Handling Outliers\n",
    "\n",
    "        # Specify the list of columns you want to handle outliers for\n",
    "        cols_to_handle_outliers = [\n",
    "            'Adult Mortality', 'infant deaths', 'Alcohol', 'percentage expenditure',\n",
    "            'Hepatitis B', 'Measles ', ' BMI ', 'under-five deaths ', 'Polio',\n",
    "            'Total expenditure', 'Diphtheria ', ' HIV/AIDS', 'GDP', 'Population',\n",
    "            ' thinness  1-19 years', ' thinness 5-9 years',\n",
    "            'Income composition of resources', 'Schooling'\n",
    "        ]\n",
    "\n",
    "        # Perform outlier handling for each specified column\n",
    "        for col_name in cols_to_handle_outliers:\n",
    "            # Calculate quartiles and IQR\n",
    "            q1 = df[col_name].quantile(0.25)\n",
    "            q3 = df[col_name].quantile(0.75)\n",
    "            iqr = q3 - q1\n",
    "\n",
    "            # Define the lower and upper bounds for outliers\n",
    "            lower_bound = q1 - 1.5 * iqr\n",
    "            upper_bound = q3 + 1.5 * iqr\n",
    "\n",
    "            # Replace outliers with the mean value of the column\n",
    "            df[col_name] = np.where((df[col_name] > upper_bound) | (df[col_name] < lower_bound), np.mean(df[col_name]), df[col_name])\n",
    "\n",
    "       \n",
    "        # Handling categorical values\n",
    "        \n",
    "        cols_to_encode = ['Country', 'Status']\n",
    "\n",
    "        # Apply label encoding to X\n",
    "        label_encoder_df = LabelEncoder()\n",
    "        for col in cols_to_encode:\n",
    "            df[col] = label_encoder_df.fit_transform(df[col])\n",
    "        \n",
    "        # Scaling\n",
    "        cols_to_scale = ['Country', 'Year', 'Adult Mortality',\n",
    "       'infant deaths', 'Alcohol', 'percentage expenditure', 'Hepatitis B',\n",
    "       'Measles ', ' BMI ', 'under-five deaths ', 'Polio', 'Total expenditure',\n",
    "       'Diphtheria ', ' HIV/AIDS', 'GDP', 'Population',\n",
    "       ' thinness  1-19 years', ' thinness 5-9 years',\n",
    "       'Income composition of resources', 'Schooling']\n",
    "\n",
    "        # Apply Min-Max scaling to the specified columns\n",
    "        scaler = MinMaxScaler()\n",
    "        df[cols_to_scale] = scaler.fit_transform(df[cols_to_scale])\n",
    "        \n",
    "        \n",
    "        # Split the data\n",
    "\n",
    "        # Split the data into training and test sets. (0.75, 0.25) split.\n",
    "        train, test = train_test_split(df)\n",
    "\n",
    "        train.to_csv(os.path.join(self.config.root_dir, \"train.csv\"),index = False)\n",
    "        test.to_csv(os.path.join(self.config.root_dir, \"test.csv\"),index = False)\n",
    "\n",
    "        logger.info(\"Splited data into training and test sets\")\n",
    "        logger.info(train.shape)\n",
    "        logger.info(test.shape)\n",
    "\n",
    "        print(train.shape)\n",
    "        print(test.shape)"
   ]
  },
  {
   "cell_type": "code",
   "execution_count": 7,
   "metadata": {},
   "outputs": [
    {
     "name": "stdout",
     "output_type": "stream",
     "text": [
      "[2024-02-21 18:05:59,392: INFO: common: yaml file: config\\config.yaml loaded successfully]\n",
      "[2024-02-21 18:05:59,407: INFO: common: yaml file: params.yaml loaded successfully]\n",
      "[2024-02-21 18:05:59,411: INFO: common: yaml file: schema.yaml loaded successfully]\n",
      "[2024-02-21 18:05:59,417: INFO: common: created directory at: artifacts]\n",
      "[2024-02-21 18:05:59,419: INFO: common: created directory at: artifacts/data_transformation]\n",
      "[2024-02-21 18:05:59,848: INFO: 1602070868: Splited data into training and test sets]\n",
      "[2024-02-21 18:05:59,850: INFO: 1602070868: (2203, 22)]\n",
      "[2024-02-21 18:05:59,851: INFO: 1602070868: (735, 22)]\n",
      "(2203, 22)\n",
      "(735, 22)\n"
     ]
    }
   ],
   "source": [
    "try:\n",
    "    config = ConfigurationManager()\n",
    "    data_transformation_config = config.get_data_transformation_config()\n",
    "    data_transformation = DataTransformation(config=data_transformation_config)\n",
    "    data_transformation.train_test_spliting()\n",
    "except Exception as e:\n",
    "    raise e"
   ]
  },
  {
   "cell_type": "code",
   "execution_count": null,
   "metadata": {},
   "outputs": [],
   "source": []
  }
 ],
 "metadata": {
  "kernelspec": {
   "display_name": "Python 3",
   "language": "python",
   "name": "python3"
  },
  "language_info": {
   "codemirror_mode": {
    "name": "ipython",
    "version": 3
   },
   "file_extension": ".py",
   "mimetype": "text/x-python",
   "name": "python",
   "nbconvert_exporter": "python",
   "pygments_lexer": "ipython3",
   "version": "3.8.18"
  }
 },
 "nbformat": 4,
 "nbformat_minor": 2
}
